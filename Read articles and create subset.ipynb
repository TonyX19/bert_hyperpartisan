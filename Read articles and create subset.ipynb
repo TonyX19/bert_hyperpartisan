{
 "cells": [
  {
   "cell_type": "code",
   "execution_count": 1,
   "metadata": {},
   "outputs": [],
   "source": [
    "import pandas as pd"
   ]
  },
  {
   "cell_type": "code",
   "execution_count": 2,
   "metadata": {},
   "outputs": [],
   "source": [
    "train_articles_file = open(\"hyperpartisan\\\\articles-training-bypublisher.txt\",\"r\", encoding=\"utf8\")"
   ]
  },
  {
   "cell_type": "code",
   "execution_count": 3,
   "metadata": {},
   "outputs": [],
   "source": [
    "articles = {}"
   ]
  },
  {
   "cell_type": "code",
   "execution_count": 4,
   "metadata": {},
   "outputs": [],
   "source": [
    "for lines in range(300000):\n",
    "    line = train_articles_file.readline()\n",
    "    articleNo = line[0:7]\n",
    "    text = line[7:]\n",
    "    if articleNo in articles:\n",
    "        articles[articleNo] = articles[line[0:7]]+text\n",
    "    else: \n",
    "        articles[articleNo] = text"
   ]
  },
  {
   "cell_type": "code",
   "execution_count": 5,
   "metadata": {},
   "outputs": [],
   "source": [
    "articles_df = pd.DataFrame.from_dict(articles, orient=\"index\")"
   ]
  },
  {
   "cell_type": "code",
   "execution_count": 6,
   "metadata": {},
   "outputs": [],
   "source": [
    "articles_df.columns = [\"article\"]"
   ]
  },
  {
   "cell_type": "code",
   "execution_count": 7,
   "metadata": {},
   "outputs": [
    {
     "data": {
      "text/html": [
       "<div>\n",
       "<style scoped>\n",
       "    .dataframe tbody tr th:only-of-type {\n",
       "        vertical-align: middle;\n",
       "    }\n",
       "\n",
       "    .dataframe tbody tr th {\n",
       "        vertical-align: top;\n",
       "    }\n",
       "\n",
       "    .dataframe thead th {\n",
       "        text-align: right;\n",
       "    }\n",
       "</style>\n",
       "<table border=\"1\" class=\"dataframe\">\n",
       "  <thead>\n",
       "    <tr style=\"text-align: right;\">\n",
       "      <th></th>\n",
       "      <th>article</th>\n",
       "    </tr>\n",
       "  </thead>\n",
       "  <tbody>\n",
       "    <tr>\n",
       "      <th>0000001</th>\n",
       "      <td>\\tWhen explaining her decision to reevaluate T...</td>\n",
       "    </tr>\n",
       "    <tr>\n",
       "      <th>0000002</th>\n",
       "      <td>\\tA Florida university will honor Trayvon Mart...</td>\n",
       "    </tr>\n",
       "    <tr>\n",
       "      <th>0000008</th>\n",
       "      <td>\\tNov. 15 ( UPI ) — Texas State University has...</td>\n",
       "    </tr>\n",
       "    <tr>\n",
       "      <th>0000012</th>\n",
       "      <td>\\tAgainst the backdrop of an increasingly pola...</td>\n",
       "    </tr>\n",
       "    <tr>\n",
       "      <th>0000015</th>\n",
       "      <td>\\tPresident-elect Donald Trump has reached an ...</td>\n",
       "    </tr>\n",
       "  </tbody>\n",
       "</table>\n",
       "</div>"
      ],
      "text/plain": [
       "                                                   article\n",
       "0000001  \\tWhen explaining her decision to reevaluate T...\n",
       "0000002  \\tA Florida university will honor Trayvon Mart...\n",
       "0000008  \\tNov. 15 ( UPI ) — Texas State University has...\n",
       "0000012  \\tAgainst the backdrop of an increasingly pola...\n",
       "0000015  \\tPresident-elect Donald Trump has reached an ..."
      ]
     },
     "execution_count": 7,
     "metadata": {},
     "output_type": "execute_result"
    }
   ],
   "source": [
    "articles_df.head()"
   ]
  },
  {
   "cell_type": "code",
   "execution_count": 8,
   "metadata": {},
   "outputs": [],
   "source": [
    "import xml.etree.cElementTree as et"
   ]
  },
  {
   "cell_type": "code",
   "execution_count": 9,
   "metadata": {},
   "outputs": [],
   "source": [
    "truthxml =et.parse(\"hyperpartisan\\\\ground-truth-training-bypublisher.xml\")"
   ]
  },
  {
   "cell_type": "code",
   "execution_count": 10,
   "metadata": {},
   "outputs": [],
   "source": [
    "root = truthxml.getroot()"
   ]
  },
  {
   "cell_type": "code",
   "execution_count": 11,
   "metadata": {},
   "outputs": [],
   "source": [
    "truths = []"
   ]
  },
  {
   "cell_type": "code",
   "execution_count": 12,
   "metadata": {},
   "outputs": [],
   "source": [
    "for i in range(30000):\n",
    "    truths.append(root[i].attrib)\n",
    "    #print(root[i].attrib)\n",
    "    #print(root[i].attrib[\"id\"])\n",
    "    #print(articles[root[i].attrib[\"id\"]])"
   ]
  },
  {
   "cell_type": "code",
   "execution_count": 13,
   "metadata": {},
   "outputs": [],
   "source": [
    "truths_df=pd.DataFrame(truths)"
   ]
  },
  {
   "cell_type": "code",
   "execution_count": 14,
   "metadata": {},
   "outputs": [],
   "source": [
    "truths_df = truths_df.set_index(\"id\")"
   ]
  },
  {
   "cell_type": "code",
   "execution_count": 15,
   "metadata": {},
   "outputs": [
    {
     "data": {
      "text/html": [
       "<div>\n",
       "<style scoped>\n",
       "    .dataframe tbody tr th:only-of-type {\n",
       "        vertical-align: middle;\n",
       "    }\n",
       "\n",
       "    .dataframe tbody tr th {\n",
       "        vertical-align: top;\n",
       "    }\n",
       "\n",
       "    .dataframe thead th {\n",
       "        text-align: right;\n",
       "    }\n",
       "</style>\n",
       "<table border=\"1\" class=\"dataframe\">\n",
       "  <thead>\n",
       "    <tr style=\"text-align: right;\">\n",
       "      <th></th>\n",
       "      <th>hyperpartisan</th>\n",
       "      <th>bias</th>\n",
       "      <th>url</th>\n",
       "      <th>labeled-by</th>\n",
       "    </tr>\n",
       "    <tr>\n",
       "      <th>id</th>\n",
       "      <th></th>\n",
       "      <th></th>\n",
       "      <th></th>\n",
       "      <th></th>\n",
       "    </tr>\n",
       "  </thead>\n",
       "  <tbody>\n",
       "    <tr>\n",
       "      <th>0000001</th>\n",
       "      <td>true</td>\n",
       "      <td>right</td>\n",
       "      <td>https://dailywire.com/news/20858/after-devos-a...</td>\n",
       "      <td>publisher</td>\n",
       "    </tr>\n",
       "    <tr>\n",
       "      <th>0000002</th>\n",
       "      <td>true</td>\n",
       "      <td>right</td>\n",
       "      <td>https://dailywire.com/news/16103/university-aw...</td>\n",
       "      <td>publisher</td>\n",
       "    </tr>\n",
       "    <tr>\n",
       "      <th>0000008</th>\n",
       "      <td>false</td>\n",
       "      <td>right-center</td>\n",
       "      <td>https://newsline.com/texas-state-university-su...</td>\n",
       "      <td>publisher</td>\n",
       "    </tr>\n",
       "    <tr>\n",
       "      <th>0000012</th>\n",
       "      <td>true</td>\n",
       "      <td>right</td>\n",
       "      <td>https://dailywire.com/node/9485</td>\n",
       "      <td>publisher</td>\n",
       "    </tr>\n",
       "    <tr>\n",
       "      <th>0000015</th>\n",
       "      <td>true</td>\n",
       "      <td>right</td>\n",
       "      <td>https://dailywire.com/news/11184/breaking-trum...</td>\n",
       "      <td>publisher</td>\n",
       "    </tr>\n",
       "  </tbody>\n",
       "</table>\n",
       "</div>"
      ],
      "text/plain": [
       "        hyperpartisan          bias  \\\n",
       "id                                    \n",
       "0000001          true         right   \n",
       "0000002          true         right   \n",
       "0000008         false  right-center   \n",
       "0000012          true         right   \n",
       "0000015          true         right   \n",
       "\n",
       "                                                       url labeled-by  \n",
       "id                                                                     \n",
       "0000001  https://dailywire.com/news/20858/after-devos-a...  publisher  \n",
       "0000002  https://dailywire.com/news/16103/university-aw...  publisher  \n",
       "0000008  https://newsline.com/texas-state-university-su...  publisher  \n",
       "0000012                    https://dailywire.com/node/9485  publisher  \n",
       "0000015  https://dailywire.com/news/11184/breaking-trum...  publisher  "
      ]
     },
     "execution_count": 15,
     "metadata": {},
     "output_type": "execute_result"
    }
   ],
   "source": [
    "truths_df.head()"
   ]
  },
  {
   "cell_type": "code",
   "execution_count": 16,
   "metadata": {},
   "outputs": [],
   "source": [
    "articles_df = articles_df.merge(truths_df, how=\"inner\", left_index=True, right_index=True)"
   ]
  },
  {
   "cell_type": "code",
   "execution_count": 17,
   "metadata": {},
   "outputs": [
    {
     "data": {
      "text/html": [
       "<div>\n",
       "<style scoped>\n",
       "    .dataframe tbody tr th:only-of-type {\n",
       "        vertical-align: middle;\n",
       "    }\n",
       "\n",
       "    .dataframe tbody tr th {\n",
       "        vertical-align: top;\n",
       "    }\n",
       "\n",
       "    .dataframe thead th {\n",
       "        text-align: right;\n",
       "    }\n",
       "</style>\n",
       "<table border=\"1\" class=\"dataframe\">\n",
       "  <thead>\n",
       "    <tr style=\"text-align: right;\">\n",
       "      <th></th>\n",
       "      <th>article</th>\n",
       "      <th>hyperpartisan</th>\n",
       "      <th>bias</th>\n",
       "      <th>url</th>\n",
       "      <th>labeled-by</th>\n",
       "    </tr>\n",
       "  </thead>\n",
       "  <tbody>\n",
       "    <tr>\n",
       "      <th>0000001</th>\n",
       "      <td>\\tWhen explaining her decision to reevaluate T...</td>\n",
       "      <td>true</td>\n",
       "      <td>right</td>\n",
       "      <td>https://dailywire.com/news/20858/after-devos-a...</td>\n",
       "      <td>publisher</td>\n",
       "    </tr>\n",
       "    <tr>\n",
       "      <th>0000002</th>\n",
       "      <td>\\tA Florida university will honor Trayvon Mart...</td>\n",
       "      <td>true</td>\n",
       "      <td>right</td>\n",
       "      <td>https://dailywire.com/news/16103/university-aw...</td>\n",
       "      <td>publisher</td>\n",
       "    </tr>\n",
       "    <tr>\n",
       "      <th>0000008</th>\n",
       "      <td>\\tNov. 15 ( UPI ) — Texas State University has...</td>\n",
       "      <td>false</td>\n",
       "      <td>right-center</td>\n",
       "      <td>https://newsline.com/texas-state-university-su...</td>\n",
       "      <td>publisher</td>\n",
       "    </tr>\n",
       "    <tr>\n",
       "      <th>0000012</th>\n",
       "      <td>\\tAgainst the backdrop of an increasingly pola...</td>\n",
       "      <td>true</td>\n",
       "      <td>right</td>\n",
       "      <td>https://dailywire.com/node/9485</td>\n",
       "      <td>publisher</td>\n",
       "    </tr>\n",
       "    <tr>\n",
       "      <th>0000015</th>\n",
       "      <td>\\tPresident-elect Donald Trump has reached an ...</td>\n",
       "      <td>true</td>\n",
       "      <td>right</td>\n",
       "      <td>https://dailywire.com/news/11184/breaking-trum...</td>\n",
       "      <td>publisher</td>\n",
       "    </tr>\n",
       "    <tr>\n",
       "      <th>...</th>\n",
       "      <td>...</td>\n",
       "      <td>...</td>\n",
       "      <td>...</td>\n",
       "      <td>...</td>\n",
       "      <td>...</td>\n",
       "    </tr>\n",
       "    <tr>\n",
       "      <th>0026573</th>\n",
       "      <td>\\tAug. 2 ( UPI ) — A possible U.S. sales deal ...</td>\n",
       "      <td>false</td>\n",
       "      <td>right-center</td>\n",
       "      <td>https://newsline.com/fms-support-deal-in-works...</td>\n",
       "      <td>publisher</td>\n",
       "    </tr>\n",
       "    <tr>\n",
       "      <th>0026574</th>\n",
       "      <td>\\tThe Blessed Hope `` Looking for that blessed...</td>\n",
       "      <td>true</td>\n",
       "      <td>right</td>\n",
       "      <td>http://nowtheendbegins.com/pages/rapture/the-b...</td>\n",
       "      <td>publisher</td>\n",
       "    </tr>\n",
       "    <tr>\n",
       "      <th>0026580</th>\n",
       "      <td>\\tAn exhibit that the artist says contains “ i...</td>\n",
       "      <td>true</td>\n",
       "      <td>right</td>\n",
       "      <td>http://theamericanmirror.com/michael-brown-the...</td>\n",
       "      <td>publisher</td>\n",
       "    </tr>\n",
       "    <tr>\n",
       "      <th>0026583</th>\n",
       "      <td>\\tRepresentatives from the High HOPES ( Healin...</td>\n",
       "      <td>false</td>\n",
       "      <td>left-center</td>\n",
       "      <td>http://chicagoreporter.com/campaign-wants-end-...</td>\n",
       "      <td>publisher</td>\n",
       "    </tr>\n",
       "    <tr>\n",
       "      <th>0026585</th>\n",
       "      <td>\\t... ... ... . ... ... ... . ... ... ... . .....</td>\n",
       "      <td>false</td>\n",
       "      <td>least</td>\n",
       "      <td>https://abqjournal.com/559224/interview-with-l...</td>\n",
       "      <td>publisher</td>\n",
       "    </tr>\n",
       "  </tbody>\n",
       "</table>\n",
       "<p>10633 rows × 5 columns</p>\n",
       "</div>"
      ],
      "text/plain": [
       "                                                   article hyperpartisan  \\\n",
       "0000001  \\tWhen explaining her decision to reevaluate T...          true   \n",
       "0000002  \\tA Florida university will honor Trayvon Mart...          true   \n",
       "0000008  \\tNov. 15 ( UPI ) — Texas State University has...         false   \n",
       "0000012  \\tAgainst the backdrop of an increasingly pola...          true   \n",
       "0000015  \\tPresident-elect Donald Trump has reached an ...          true   \n",
       "...                                                    ...           ...   \n",
       "0026573  \\tAug. 2 ( UPI ) — A possible U.S. sales deal ...         false   \n",
       "0026574  \\tThe Blessed Hope `` Looking for that blessed...          true   \n",
       "0026580  \\tAn exhibit that the artist says contains “ i...          true   \n",
       "0026583  \\tRepresentatives from the High HOPES ( Healin...         false   \n",
       "0026585  \\t... ... ... . ... ... ... . ... ... ... . .....         false   \n",
       "\n",
       "                 bias                                                url  \\\n",
       "0000001         right  https://dailywire.com/news/20858/after-devos-a...   \n",
       "0000002         right  https://dailywire.com/news/16103/university-aw...   \n",
       "0000008  right-center  https://newsline.com/texas-state-university-su...   \n",
       "0000012         right                    https://dailywire.com/node/9485   \n",
       "0000015         right  https://dailywire.com/news/11184/breaking-trum...   \n",
       "...               ...                                                ...   \n",
       "0026573  right-center  https://newsline.com/fms-support-deal-in-works...   \n",
       "0026574         right  http://nowtheendbegins.com/pages/rapture/the-b...   \n",
       "0026580         right  http://theamericanmirror.com/michael-brown-the...   \n",
       "0026583   left-center  http://chicagoreporter.com/campaign-wants-end-...   \n",
       "0026585         least  https://abqjournal.com/559224/interview-with-l...   \n",
       "\n",
       "        labeled-by  \n",
       "0000001  publisher  \n",
       "0000002  publisher  \n",
       "0000008  publisher  \n",
       "0000012  publisher  \n",
       "0000015  publisher  \n",
       "...            ...  \n",
       "0026573  publisher  \n",
       "0026574  publisher  \n",
       "0026580  publisher  \n",
       "0026583  publisher  \n",
       "0026585  publisher  \n",
       "\n",
       "[10633 rows x 5 columns]"
      ]
     },
     "execution_count": 17,
     "metadata": {},
     "output_type": "execute_result"
    }
   ],
   "source": [
    "articles_df"
   ]
  },
  {
   "cell_type": "code",
   "execution_count": 18,
   "metadata": {},
   "outputs": [],
   "source": [
    "articles_df.to_csv(\"train_subset.csv\")"
   ]
  }
 ],
 "metadata": {
  "kernelspec": {
   "display_name": "Python 3",
   "language": "python",
   "name": "python3"
  },
  "language_info": {
   "codemirror_mode": {
    "name": "ipython",
    "version": 3
   },
   "file_extension": ".py",
   "mimetype": "text/x-python",
   "name": "python",
   "nbconvert_exporter": "python",
   "pygments_lexer": "ipython3",
   "version": "3.6.10"
  }
 },
 "nbformat": 4,
 "nbformat_minor": 2
}
